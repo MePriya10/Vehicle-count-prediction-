{
 "cells": [
  {
   "cell_type": "code",
   "execution_count": null,
   "metadata": {
    "colab": {
     "base_uri": "https://localhost:8080/",
     "height": 206
    },
    "id": "U-yn5Zjj4Ksb",
    "outputId": "bccc7560-9577-4159-d0eb-590bba280025"
   },
   "outputs": [],
   "source": [
    "\n",
    "import pandas as pd\n",
    "sensor_data = pd.read_csv('vehicles.csv')\n",
    "sensor_data.head()"
   ]
  },
  {
   "cell_type": "code",
   "execution_count": null,
   "metadata": {
    "colab": {
     "base_uri": "https://localhost:8080/",
     "height": 206
    },
    "id": "9E1g70oK4VaF",
    "outputId": "8e5a4122-d85b-4b3d-ae14-2a794ab2f3bf"
   },
   "outputs": [],
   "source": [
    "# function to get all data from time stamp\n",
    "\n",
    "# get date\n",
    "def extract_day_of_month(dt):\n",
    "\treturn dt.day\n",
    "\n",
    "# get week day\n",
    "def extract_weekday(dt):\n",
    "\treturn dt.weekday()\n",
    "\n",
    "# get hour\n",
    "def extract_hour(dt):\n",
    "\treturn dt.hour\n",
    "\n",
    "# get year\n",
    "def extract_year(dt):\n",
    "\treturn dt.year\n",
    "\n",
    "# get month\n",
    "def extract_month(dt):\n",
    "\treturn dt.month\n",
    "\n",
    "# get year day\n",
    "def extract_day_of_year(dt):\n",
    "\treturn dt.dayofyear\n",
    "\n",
    "# get year week\n",
    "def extract_week_of_year(dt):\n",
    "\treturn dt.weekofyear\n",
    "\n",
    "\n",
    "sensor_data['DateTime'] = sensor_data['DateTime'].map(pd.to_datetime)\n",
    "sensor_data['date'] = sensor_data['DateTime'].map(extract_day_of_month)\n",
    "sensor_data['weekday'] = sensor_data['DateTime'].map(extract_weekday)\n",
    "sensor_data['hour'] = sensor_data['DateTime'].map(extract_hour)\n",
    "sensor_data['month'] = sensor_data['DateTime'].map(extract_month)\n",
    "sensor_data['year'] = sensor_data['DateTime'].map(extract_year)\n",
    "sensor_data['dayofyear'] = sensor_data['DateTime'].map(extract_day_of_year)\n",
    "sensor_data['weekofyear'] = sensor_data['DateTime'].map(extract_week_of_year)\n",
    "\n",
    "\n",
    "sensor_data.head()"
   ]
  },
  {
   "cell_type": "code",
   "execution_count": null,
   "metadata": {
    "colab": {
     "base_uri": "https://localhost:8080/",
     "height": 345
    },
    "id": "t53r_hPp4Ww1",
    "outputId": "6764c7d4-6331-47a0-cf23-5632ecfcc954"
   },
   "outputs": [],
   "source": [
    "\n",
    "sensor_data = sensor_data.drop(['DateTime'], axis=1)\n",
    "\n",
    "# separating class label for sensor_dataing the data\n",
    "features_data = sensor_data.drop(['Vehicles'], axis=1)\n",
    "\n",
    "# class label is stored in vehicle_counts\n",
    "vehicle_counts = sensor_data['Vehicles']\n",
    "\n",
    "print(features_data.head())\n",
    "vehicle_counts.head()"
   ]
  },
  {
   "cell_type": "code",
   "execution_count": null,
   "metadata": {
    "colab": {
     "base_uri": "https://localhost:8080/"
    },
    "id": "t_PXpGyE4YeA",
    "outputId": "c1e7f67e-ac97-460e-d66a-b9613eb2637f"
   },
   "outputs": [],
   "source": [
    "#importing Random forest\n",
    "from sklearn.ensemble import RandomForestRegressor\n",
    "\n",
    "#defining the RandomForestRegressor\n",
    "m1=RandomForestRegressor()\n",
    "\n",
    "m1.fit(features_data,vehicle_counts)\n",
    "#testing\n",
    "m1.predict([[1, 6, 0, 11, 2015, 305, 44]])"
   ]
  }
 ],
 "metadata": {
  "colab": {
   "provenance": []
  },
  "kernelspec": {
   "display_name": "Python 3",
   "name": "python3"
  },
  "language_info": {
   "codemirror_mode": {
    "name": "ipython",
    "version": 3
   },
   "file_extension": ".py",
   "mimetype": "text/x-python",
   "name": "python",
   "nbconvert_exporter": "python",
   "pygments_lexer": "ipython3",
   "version": "3.13.0"
  }
 },
 "nbformat": 4,
 "nbformat_minor": 0
}
